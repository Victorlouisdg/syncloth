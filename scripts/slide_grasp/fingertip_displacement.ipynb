{
 "cells": [
  {
   "cell_type": "code",
   "execution_count": null,
   "metadata": {},
   "outputs": [],
   "source": [
    "import numpy as np\n",
    "from syncloth.grasping.slide_grasp import slide_grasp_orientation"
   ]
  },
  {
   "cell_type": "code",
   "execution_count": null,
   "metadata": {},
   "outputs": [],
   "source": [
    "def calculate_fingertip_displacement_when_open(approach_angle):\n",
    "    grasp_approach_direction = np.array([1, 0, 0])\n",
    "\n",
    "\n",
    "    grasp_orientation = slide_grasp_orientation(grasp_approach_direction, angle=approach_angle)\n",
    "    gripper_X = grasp_orientation[:, 0] # first column\n",
    "    gripper_Z = grasp_orientation[:, 2] # third column\n",
    "\n",
    "    dx = 0.085 / 2\n",
    "    dz = 0.0135\n",
    "\n",
    "    fingertip_displacement = dx * -gripper_X + dz * -gripper_Z\n",
    "    return fingertip_displacement"
   ]
  },
  {
   "attachments": {},
   "cell_type": "markdown",
   "metadata": {},
   "source": [
    "Below are the vectors that point from the fingertip when they are closed to open."
   ]
  },
  {
   "cell_type": "code",
   "execution_count": null,
   "metadata": {},
   "outputs": [],
   "source": [
    "displacement = calculate_fingertip_displacement_when_open(0)\n",
    "displacement"
   ]
  },
  {
   "cell_type": "code",
   "execution_count": null,
   "metadata": {},
   "outputs": [],
   "source": [
    "displacement = calculate_fingertip_displacement_when_open(np.deg2rad(45))\n",
    "displacement"
   ]
  },
  {
   "cell_type": "code",
   "execution_count": null,
   "metadata": {},
   "outputs": [],
   "source": [
    "displacement = calculate_fingertip_displacement_when_open(np.deg2rad(90))\n",
    "displacement"
   ]
  },
  {
   "cell_type": "code",
   "execution_count": null,
   "metadata": {},
   "outputs": [],
   "source": []
  }
 ],
 "metadata": {
  "kernelspec": {
   "display_name": "Python 3",
   "language": "python",
   "name": "python3"
  },
  "language_info": {
   "codemirror_mode": {
    "name": "ipython",
    "version": 3
   },
   "file_extension": ".py",
   "mimetype": "text/x-python",
   "name": "python",
   "nbconvert_exporter": "python",
   "pygments_lexer": "ipython3",
   "version": "3.10.10"
  },
  "orig_nbformat": 4
 },
 "nbformat": 4,
 "nbformat_minor": 2
}
