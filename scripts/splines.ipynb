{
 "cells": [
  {
   "cell_type": "code",
   "execution_count": null,
   "metadata": {},
   "outputs": [],
   "source": [
    "import numpy as np\n",
    "import matplotlib.pyplot as plt\n",
    "from matplotlib.collections import LineCollection\n",
    "from matplotlib.colors import ListedColormap, BoundaryNorm"
   ]
  },
  {
   "cell_type": "code",
   "execution_count": null,
   "metadata": {},
   "outputs": [],
   "source": [
    "point0 = np.array([0.0, 0.0, 0.0])\n",
    "point1 = np.array([0.5, 1.0, 0.0])\n",
    "point2 = np.array([1.0, 0.0, 0.0])\n",
    "\n",
    "points = np.vstack((point0, point1, point2))"
   ]
  },
  {
   "cell_type": "code",
   "execution_count": null,
   "metadata": {},
   "outputs": [],
   "source": [
    "def quadratic_bezier(t, p0, p1, p2):\n",
    "    return (1 - t)**2 * p0 + 2 * (1 - t) * t * p1 + t**2 * p2"
   ]
  },
  {
   "cell_type": "code",
   "execution_count": null,
   "metadata": {},
   "outputs": [],
   "source": [
    "t_range = np.linspace(0, 1, 6)\n",
    "curve = np.array([quadratic_bezier(t, point0, point1, point2) for t in t_range])\n",
    "plt.plot(curve[:, 0], curve[:, 1], 'ob-')\n",
    "plt.plot(points[:, 0], points[:, 1], 'or--')"
   ]
  },
  {
   "cell_type": "code",
   "execution_count": null,
   "metadata": {},
   "outputs": [],
   "source": [
    "#cubic bezier example\n",
    "point0 = np.array([0.0, 0.0, 0.0])\n",
    "point1 = np.array([0.8, 1.0, 0.0])\n",
    "point2 = np.array([1.0, -3.0, 0.0])\n",
    "point3 = np.array([1.5, 1.0, 0.0])\n",
    "\n",
    "points = np.vstack((point0, point1, point2, point3))"
   ]
  },
  {
   "cell_type": "code",
   "execution_count": null,
   "metadata": {},
   "outputs": [],
   "source": [
    "def cubic_bezier(t, p0, p1, p2, p3):\n",
    "    return (1 - t)**3 * p0 + 3 * (1 - t)**2 * t * p1 + 3 * (1 - t) * t**2 * p2 + t**3 * p3"
   ]
  },
  {
   "cell_type": "code",
   "execution_count": null,
   "metadata": {},
   "outputs": [],
   "source": [
    "t_range = np.linspace(0, 1, 25)\n",
    "curve = np.array([cubic_bezier(t, point0, point1, point2, point3) for t in t_range])\n",
    "plt.plot(curve[:, 0], curve[:, 1], 'ob-', markersize=2)\n",
    "plt.plot(points[:, 0], points[:, 1], 'or--')"
   ]
  },
  {
   "cell_type": "code",
   "execution_count": null,
   "metadata": {},
   "outputs": [],
   "source": [
    "curve_temp = curve[:, 0:2].reshape(-1, 1, 2)\n",
    "segments = np.concatenate([curve_temp[:-1], curve_temp[1:]], axis=1)\n",
    "\n",
    "# The segments array for line collection needs to be (numlines) x (points per line) x 2 (for x and y)\n",
    "segments.shape"
   ]
  },
  {
   "cell_type": "code",
   "execution_count": null,
   "metadata": {},
   "outputs": [],
   "source": [
    "segment_lengths = []\n",
    "\n",
    "for i in range(len(curve) - 1):\n",
    "    segment_length = np.linalg.norm(curve[i + 1] - curve[i])\n",
    "    segment_lengths.append(segment_length)"
   ]
  },
  {
   "cell_type": "code",
   "execution_count": null,
   "metadata": {},
   "outputs": [],
   "source": [
    "norm = plt.Normalize(min(segment_lengths), max(segment_lengths))"
   ]
  },
  {
   "cell_type": "code",
   "execution_count": null,
   "metadata": {},
   "outputs": [],
   "source": [
    "lc = LineCollection(segments, cmap='viridis', norm=norm)\n",
    "lc.set_array(segment_lengths)\n",
    "\n",
    "fig = plt.figure(figsize=(10, 5))\n",
    "ax = fig.add_subplot(111)\n",
    "ax.plot(points[:, 0], points[:, 1], 'o--', alpha = 0.25)\n",
    "line = ax.add_collection(lc)\n",
    "fig.colorbar(line, ax=ax)\n",
    "plt.show()"
   ]
  },
  {
   "cell_type": "code",
   "execution_count": null,
   "metadata": {},
   "outputs": [],
   "source": []
  }
 ],
 "metadata": {
  "kernelspec": {
   "display_name": "airo-mono",
   "language": "python",
   "name": "python3"
  },
  "language_info": {
   "codemirror_mode": {
    "name": "ipython",
    "version": 3
   },
   "file_extension": ".py",
   "mimetype": "text/x-python",
   "name": "python",
   "nbconvert_exporter": "python",
   "pygments_lexer": "ipython3",
   "version": "3.9.13"
  },
  "orig_nbformat": 4
 },
 "nbformat": 4,
 "nbformat_minor": 2
}
