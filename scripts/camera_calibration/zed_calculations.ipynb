{
 "cells": [
  {
   "attachments": {},
   "cell_type": "markdown",
   "metadata": {},
   "source": [
    "# Camera Intrinsics\n",
    "This notebook is my attempt to better understand camera intrinsics. \n",
    "To test my assumptions I will do some calculations with the ZED2i as reference.\n",
    "\n",
    "ZED2i datasheet: https://www.stereolabs.com/assets/datasheets/zed-2i-datasheet-feb2022.pdf"
   ]
  },
  {
   "attachments": {},
   "cell_type": "markdown",
   "metadata": {},
   "source": [
    "## Sensor size"
   ]
  },
  {
   "cell_type": "code",
   "execution_count": 1,
   "metadata": {},
   "outputs": [
    {
     "name": "stdout",
     "output_type": "stream",
     "text": [
      "ZED2i sensor size in mm:\n"
     ]
    },
    {
     "data": {
      "text/plain": [
       "(5.376, 3.04)"
      ]
     },
     "execution_count": 1,
     "metadata": {},
     "output_type": "execute_result"
    }
   ],
   "source": [
    "sensor_pixels_x = 2688\n",
    "sensor_pixels_y = 1520\n",
    "sensor_pixel_size_in_mm = 0.002 # 2 micrometers\n",
    "\n",
    "sensor_width_calculated = sensor_pixels_x * sensor_pixel_size_in_mm\n",
    "sensor_height_calculated = sensor_pixels_y * sensor_pixel_size_in_mm\n",
    "\n",
    "print(\"ZED2i sensor size in mm:\")\n",
    "sensor_width_calculated, sensor_height_calculated"
   ]
  },
  {
   "attachments": {},
   "cell_type": "markdown",
   "metadata": {},
   "source": [
    "## Aspect ratios"
   ]
  },
  {
   "cell_type": "code",
   "execution_count": 2,
   "metadata": {},
   "outputs": [
    {
     "name": "stdout",
     "output_type": "stream",
     "text": [
      "Aspect ratios \n",
      "---------------\n",
      "sensor: 1.768421052631579\n",
      "    2K: 1.7777777777777777\n",
      "   FHD: 1.7777777777777777\n",
      "    HD: 1.7777777777777777\n",
      "   VGA: 1.7872340425531914\n"
     ]
    }
   ],
   "source": [
    "resolutions = {\n",
    "    \"sensor\" : (sensor_pixels_x, sensor_pixels_y),\n",
    "    \"2K\" : (2208, 1242),\n",
    "    \"FHD\": (1920, 1080),\n",
    "    \"HD\" : (1280, 720),\n",
    "    \"VGA\": (672, 376),\n",
    "}\n",
    "\n",
    "\n",
    "aspect_ratios = [width / height for width, height in resolutions.values()]\n",
    "\n",
    "print(\"Aspect ratios \\n---------------\")\n",
    "for name, aspect_ratio in zip(resolutions.keys(), aspect_ratios):\n",
    "    print(f\"{name:>6}: {aspect_ratio}\")"
   ]
  },
  {
   "cell_type": "code",
   "execution_count": 3,
   "metadata": {},
   "outputs": [
    {
     "data": {
      "text/plain": [
       "1.7777777777777777"
      ]
     },
     "execution_count": 3,
     "metadata": {},
     "output_type": "execute_result"
    }
   ],
   "source": [
    "16 / 9"
   ]
  },
  {
   "attachments": {},
   "cell_type": "markdown",
   "metadata": {},
   "source": [
    "Note that all available image aspect ratios are **larger** than the aspect ratio of the sensor.\n",
    "This means that the images are **relatively wider** than the sensor, and that some sensor pixels at the top or bottom are not used.\n",
    "\n",
    "The part of the sensor that is actually used (for each image resolution) is called the **active sensor area**."
   ]
  },
  {
   "attachments": {},
   "cell_type": "markdown",
   "metadata": {},
   "source": [
    "Two questions you might have about camera intrinsics:\n",
    "* Why does each resolution have a different intrinsics matrix?\n",
    "* Why are focal lengths and principal points saved in pixels?\n",
    "\n",
    "Wouldn't it be cleaner to store the physical intrinsics of the camera.\n",
    "E.g. the "
   ]
  },
  {
   "cell_type": "code",
   "execution_count": 4,
   "metadata": {},
   "outputs": [],
   "source": [
    "fx=1067.91\n",
    "fy=1068.05\n",
    "cx=1107.48\n",
    "cy=629.675\n",
    "k1=-0.0542749\n",
    "k2=0.0268096\n",
    "p1=0.000204483\n",
    "p2=-0.000310015\n",
    "k3=-0.0104089"
   ]
  },
  {
   "cell_type": "code",
   "execution_count": 5,
   "metadata": {},
   "outputs": [
    {
     "name": "stdout",
     "output_type": "stream",
     "text": [
      "Focal length in (sensor) pixels:\n"
     ]
    },
    {
     "data": {
      "text/plain": [
       "1060.0"
      ]
     },
     "execution_count": 5,
     "metadata": {},
     "output_type": "execute_result"
    }
   ],
   "source": [
    "print(\"Focal length in (sensor) pixels:\")\n",
    "2.12 / 0.002\n"
   ]
  },
  {
   "attachments": {},
   "cell_type": "markdown",
   "metadata": {},
   "source": [
    "Because the focal length in sensor pixels is approaximately equal to the focal in 2K and FHD pixels, we know that a pixel in image at those resolutions corresponds to a pixel on the sensor.\n",
    "\n",
    "\n",
    "According to the datasheet, the camera's focal length should be 2.12 mm, and the size of a pixel on the sensor 0.002 mm.\n",
    "Using the sensor pixels size, we get a focal length in pixels of 2.12 mm / 0.002 mm = 1060 pixels.\n",
    "This is close to the value we see in the config file for the highest image resolutions.\n",
    "This means that for those resolution, 1 image pixel corresponds to 1 sensor pixel.\n",
    "For the lower resolutions, e.g. HD the focal length is approximately half of that, which means that 4 sensor pixels (a 2x2 square) are binned together to form an image pixel.\n"
   ]
  },
  {
   "cell_type": "code",
   "execution_count": 6,
   "metadata": {},
   "outputs": [
    {
     "name": "stdout",
     "output_type": "stream",
     "text": [
      "sensor: 1344.0, 760.0\n",
      "    2K: 1104.0, 621.0\n",
      "   FHD: 960.0, 540.0\n",
      "    HD: 640.0, 360.0\n",
      "   VGA: 336.0, 188.0\n"
     ]
    }
   ],
   "source": [
    "for name, (width, height) in resolutions.items():\n",
    "    print(f\"{name:>6}: {width / 2}, {height / 2}\")"
   ]
  },
  {
   "cell_type": "code",
   "execution_count": 7,
   "metadata": {},
   "outputs": [
    {
     "data": {
      "text/plain": [
       "103.47498375651556"
      ]
     },
     "execution_count": 7,
     "metadata": {},
     "output_type": "execute_result"
    }
   ],
   "source": [
    "import numpy as np  \n",
    "\n",
    "focal_length_in_mm = 2.12\n",
    "np.rad2deg(2 * np.arctan2(sensor_pixels_x * sensor_pixel_size_in_mm / 2, focal_length_in_mm))"
   ]
  },
  {
   "cell_type": "code",
   "execution_count": 8,
   "metadata": {},
   "outputs": [
    {
     "data": {
      "text/plain": [
       "84.33177796738698"
      ]
     },
     "execution_count": 8,
     "metadata": {},
     "output_type": "execute_result"
    }
   ],
   "source": [
    "import numpy as np  \n",
    "\n",
    "focal_length_in_mm = 2.12\n",
    "np.rad2deg(2 * np.arctan2(1920 * sensor_pixel_size_in_mm / 2, focal_length_in_mm))"
   ]
  },
  {
   "cell_type": "code",
   "execution_count": 9,
   "metadata": {},
   "outputs": [
    {
     "data": {
      "text/plain": [
       "91.90395955339223"
      ]
     },
     "execution_count": 9,
     "metadata": {},
     "output_type": "execute_result"
    }
   ],
   "source": [
    "import numpy as np  \n",
    "\n",
    "np.rad2deg(2 * np.arctan2(2208 / 2, fx))"
   ]
  },
  {
   "cell_type": "code",
   "execution_count": 10,
   "metadata": {},
   "outputs": [
    {
     "data": {
      "text/plain": [
       "83.90805133022553"
      ]
     },
     "execution_count": 10,
     "metadata": {},
     "output_type": "execute_result"
    }
   ],
   "source": [
    "import numpy as np  \n",
    "\n",
    "np.rad2deg(2 * np.arctan2(1920 / 2, fx))"
   ]
  },
  {
   "cell_type": "code",
   "execution_count": 11,
   "metadata": {},
   "outputs": [
    {
     "data": {
      "text/plain": [
       "84.33177796738698"
      ]
     },
     "execution_count": 11,
     "metadata": {},
     "output_type": "execute_result"
    }
   ],
   "source": [
    "np.rad2deg(2 * np.arctan2(1920 / 2, focal_length_in_mm / sensor_pixel_size_in_mm))"
   ]
  },
  {
   "cell_type": "code",
   "execution_count": 12,
   "metadata": {},
   "outputs": [
    {
     "data": {
      "text/plain": [
       "array([ 3.0583577 ,  1.47310216, -2.47639619, -1.29575394,  0.14349737,\n",
       "       -2.85743811])"
      ]
     },
     "execution_count": 12,
     "metadata": {},
     "output_type": "execute_result"
    }
   ],
   "source": [
    "# sample six random values between -pi and pi\n",
    "np.printoptions(precision=3, suppress=True)\n",
    "np.random.uniform(-np.pi, np.pi, 6)"
   ]
  },
  {
   "cell_type": "code",
   "execution_count": null,
   "metadata": {},
   "outputs": [],
   "source": []
  }
 ],
 "metadata": {
  "kernelspec": {
   "display_name": "airo-blender",
   "language": "python",
   "name": "python3"
  },
  "language_info": {
   "codemirror_mode": {
    "name": "ipython",
    "version": 3
   },
   "file_extension": ".py",
   "mimetype": "text/x-python",
   "name": "python",
   "nbconvert_exporter": "python",
   "pygments_lexer": "ipython3",
   "version": "3.10.10"
  },
  "orig_nbformat": 4
 },
 "nbformat": 4,
 "nbformat_minor": 2
}
