{
 "cells": [
  {
   "cell_type": "code",
   "execution_count": null,
   "metadata": {},
   "outputs": [],
   "source": [
    "import glob\n",
    "import cv2\n",
    "import matplotlib.pyplot as plt\n",
    "import numpy as np"
   ]
  },
  {
   "cell_type": "code",
   "execution_count": null,
   "metadata": {},
   "outputs": [],
   "source": [
    "# Find all image with name pose*.png\n",
    "image_paths = glob.glob(\"pose*.png\")\n",
    "image_paths"
   ]
  },
  {
   "cell_type": "code",
   "execution_count": null,
   "metadata": {},
   "outputs": [],
   "source": [
    "from mpl_toolkits.axes_grid1 import ImageGrid\n",
    "images = [cv2.imread(image_path) for image_path in image_paths]\n",
    "\n",
    "def plot_image_grid(images_bgr, cols=1, scale=4.0):\n",
    "    images = [cv2.cvtColor(image, cv2.COLOR_BGR2RGB) for image in images_bgr]\n",
    "    rows = int(np.ceil(len(images) / cols))\n",
    "\n",
    "    fig = plt.figure(figsize=(10, 100))\n",
    "    grid = ImageGrid(fig, 111,  # similar to subplot(111)\n",
    "                    nrows_ncols=(rows, cols),\n",
    "                    axes_pad=0.1,  # pad between axes in inch.\n",
    "                    )\n",
    "\n",
    "    # _, axs = plt.subplots(rows, cols, figsize=(10, 60))\n",
    "    for i, ax in enumerate(grid):\n",
    "        ax.imshow(images[i])\n",
    "    plt.show()\n",
    "\n",
    "plot_image_grid(images)"
   ]
  },
  {
   "cell_type": "code",
   "execution_count": null,
   "metadata": {},
   "outputs": [],
   "source": [
    "from airo_dataset_tools.data_parsers.camera_intrinsics import CameraIntrinsics\n",
    "\n",
    "# Load camera intrinsics from file\n",
    "intrinsics_saved = CameraIntrinsics.parse_file(\"camera_intrinsics.json\")\n",
    "\n",
    "def intrinsics_to_K_matrix(intrinsics: CameraIntrinsics):\n",
    "    fx = intrinsics.focal_lengths_in_pixels.fx\n",
    "    fy = intrinsics.focal_lengths_in_pixels.fy\n",
    "    cx = intrinsics.principal_point_in_pixels.cx\n",
    "    cy = intrinsics.principal_point_in_pixels.cy\n",
    "    return np.array([[fx, 0, cx], [0, fy, cy], [0, 0, 1]])\n",
    "\n",
    "K = intrinsics_to_K_matrix(intrinsics_saved)\n",
    "\n",
    "with np.printoptions(precision=3, suppress=True):\n",
    "    print(K)"
   ]
  },
  {
   "cell_type": "code",
   "execution_count": null,
   "metadata": {},
   "outputs": [],
   "source": [
    "from airo_camera_toolkit.calibration.fiducial_markers import (\n",
    "    AIRO_DEFAULT_ARUCO_DICT,\n",
    "    AIRO_DEFAULT_CHARUCO_BOARD,\n",
    "    detect_aruco_markers,\n",
    "    get_poses_of_aruco_markers,\n",
    "    detect_charuco_corners,\n",
    "    get_pose_of_charuco_board,\n",
    "    visualize_aruco_detections,\n",
    "    draw_frame_on_image,\n",
    "    visualize_charuco_detection,\n",
    ")\n",
    "\n",
    "aruco_dict = AIRO_DEFAULT_ARUCO_DICT\n",
    "charuco_board = AIRO_DEFAULT_CHARUCO_BOARD\n",
    "\n",
    "def draw_aruco_detections(image, intrinsics):\n",
    "    # print(intrinsics)\n",
    "    aruco_result = detect_aruco_markers(image, aruco_dict)\n",
    "\n",
    "    charuco_result = None\n",
    "    if aruco_result:\n",
    "        charuco_result = detect_charuco_corners(image, aruco_result, charuco_board)\n",
    "        if charuco_result:\n",
    "            charuco_pose = get_pose_of_charuco_board(charuco_result, charuco_board, intrinsics)\n",
    "\n",
    "    if aruco_result:\n",
    "        image = visualize_aruco_detections(image, aruco_result)\n",
    "\n",
    "\n",
    "    if charuco_result:\n",
    "        image = visualize_charuco_detection(image, charuco_result)\n",
    "        if charuco_pose is not None:\n",
    "            image = draw_frame_on_image(image, charuco_pose, intrinsics)\n",
    "    return image"
   ]
  },
  {
   "cell_type": "code",
   "execution_count": null,
   "metadata": {},
   "outputs": [],
   "source": [
    "images_with_detections = [draw_aruco_detections(image, K) for image in images]"
   ]
  },
  {
   "cell_type": "code",
   "execution_count": null,
   "metadata": {},
   "outputs": [],
   "source": [
    "plot_image_grid(images_with_detections)"
   ]
  },
  {
   "cell_type": "code",
   "execution_count": null,
   "metadata": {},
   "outputs": [],
   "source": []
  }
 ],
 "metadata": {
  "kernelspec": {
   "display_name": "airo-blender",
   "language": "python",
   "name": "python3"
  },
  "language_info": {
   "codemirror_mode": {
    "name": "ipython",
    "version": 3
   },
   "file_extension": ".py",
   "mimetype": "text/x-python",
   "name": "python",
   "nbconvert_exporter": "python",
   "pygments_lexer": "ipython3",
   "version": "3.10.12"
  },
  "orig_nbformat": 4
 },
 "nbformat": 4,
 "nbformat_minor": 2
}
