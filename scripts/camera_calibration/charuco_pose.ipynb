{
 "cells": [
  {
   "cell_type": "code",
   "execution_count": null,
   "metadata": {},
   "outputs": [],
   "source": [
    "import glob\n",
    "import cv2\n",
    "import matplotlib.pyplot as plt\n",
    "import numpy as np\n",
    "from airo_camera_toolkit.utils import ImageConverter\n",
    "from airo_dataset_tools.data_parsers.pose import Pose\n",
    "from airo_camera_toolkit.calibration.fiducial_markers import draw_frame_on_image\n",
    "from airo_spatial_algebra.se3 import SE3Container\n",
    "\n",
    "\n",
    "np.set_printoptions(precision=3, suppress=True)"
   ]
  },
  {
   "cell_type": "code",
   "execution_count": null,
   "metadata": {},
   "outputs": [],
   "source": [
    "pose_id = 3\n",
    "image = cv2.imread(f\"output/pose_{pose_id:04d}.png\")\n",
    "\n",
    "image_rgb = ImageConverter.from_opencv_format(image).image_in_numpy_format\n",
    "plt.imshow(image_rgb);"
   ]
  },
  {
   "cell_type": "code",
   "execution_count": null,
   "metadata": {},
   "outputs": [],
   "source": [
    "eef_pose = Pose.parse_file(f\"output/eef_pose_{pose_id:04d}.json\").as_homogeneous_matrix()\n",
    "camera_pose = Pose.parse_file(\"output/camera_extrinsics.json\").as_homogeneous_matrix()\n",
    "eef_to_board = Pose.parse_file(\"output/eef_to_board_transform.json\").as_homogeneous_matrix()\n",
    "\n",
    "print(eef_pose)\n",
    "print(camera_pose)"
   ]
  },
  {
   "cell_type": "code",
   "execution_count": null,
   "metadata": {},
   "outputs": [],
   "source": [
    "from airo_dataset_tools.data_parsers.camera_intrinsics import CameraIntrinsics\n",
    "\n",
    "# Load camera intrinsics from file\n",
    "intrinsics_saved = CameraIntrinsics.parse_file(\"camera_intrinsics.json\")\n",
    "\n",
    "def intrinsics_to_K_matrix(intrinsics: CameraIntrinsics):\n",
    "    fx = intrinsics.focal_lengths_in_pixels.fx\n",
    "    fy = intrinsics.focal_lengths_in_pixels.fy\n",
    "    cx = intrinsics.principal_point_in_pixels.cx\n",
    "    cy = intrinsics.principal_point_in_pixels.cy\n",
    "    return np.array([[fx, 0, cx], [0, fy, cy], [0, 0, 1]])\n",
    "\n",
    "intrinsics_matrix = intrinsics_to_K_matrix(intrinsics_saved)\n",
    "\n",
    "# with np.printoptions(precision=3, suppress=True):\n",
    "print(intrinsics_matrix)"
   ]
  },
  {
   "cell_type": "code",
   "execution_count": null,
   "metadata": {},
   "outputs": [],
   "source": [
    "# W = world\n",
    "# C = camera\n",
    "# E = end effector\n",
    "# B = board\n",
    "\n",
    "X_WC = camera_pose\n",
    "X_WE = eef_pose\n",
    "X_CW = np.linalg.inv(X_WC)\n",
    "X_CE = X_CW @ X_WE\n",
    "X_EB = eef_to_board\n",
    "X_CB = X_CE @ X_EB\n",
    "\n",
    "image2 = image.copy()\n",
    "#draw_frame_on_image(image2, X_CE, intrinsics_matrix)\n",
    "charuco_se3 = SE3Container.from_homogeneous_matrix(X_CB)\n",
    "rvec = charuco_se3.orientation_as_rotation_vector\n",
    "tvec = charuco_se3.translation\n",
    "cv2.drawFrameAxes(image2, intrinsics_matrix, None, rvec, tvec, 0.2)\n",
    "\n",
    "\n",
    "image2_rgb = ImageConverter.from_opencv_format(image2).image_in_numpy_format\n",
    "plt.imshow(image2_rgb);"
   ]
  },
  {
   "cell_type": "code",
   "execution_count": null,
   "metadata": {},
   "outputs": [],
   "source": [
    "from airo_camera_toolkit.calibration.fiducial_markers import (\n",
    "    AIRO_DEFAULT_ARUCO_DICT,\n",
    "    AIRO_DEFAULT_CHARUCO_BOARD,\n",
    "    detect_aruco_markers,\n",
    "    detect_charuco_corners,\n",
    "    draw_frame_on_image,\n",
    "    get_pose_of_charuco_board,\n",
    "    visualize_charuco_detection,\n",
    ")\n",
    "\n",
    "aruco_dict = AIRO_DEFAULT_ARUCO_DICT\n",
    "charuco_board = AIRO_DEFAULT_CHARUCO_BOARD\n",
    "\n",
    "def detect_and_draw_charuco_pose(image, intrinsics_matrix):\n",
    "    aruco_result = detect_aruco_markers(image, aruco_dict)\n",
    "    if not aruco_result:\n",
    "        return\n",
    "\n",
    "    charuco_result = detect_charuco_corners(image, aruco_result, charuco_board)\n",
    "    if not charuco_result:\n",
    "        return\n",
    "\n",
    "    image = visualize_charuco_detection(image, charuco_result)\n",
    "    charuco_pose = get_pose_of_charuco_board(charuco_result, charuco_board, intrinsics_matrix, None)\n",
    "    if charuco_pose is None:\n",
    "        return\n",
    "\n",
    "    charuco_se3 = SE3Container.from_homogeneous_matrix(charuco_pose)\n",
    "    rvec = charuco_se3.orientation_as_rotation_vector\n",
    "    tvec = charuco_se3.translation\n",
    "    cv2.drawFrameAxes(image, intrinsics_matrix, None, rvec, tvec, 0.2)\n",
    "    return charuco_pose\n",
    "\n",
    "\n",
    "image3 = image.copy()\n",
    "charuco_pose = detect_and_draw_charuco_pose(image3, intrinsics_matrix)\n",
    "image3_rgb = ImageConverter.from_opencv_format(image3).image_in_numpy_format\n",
    "plt.imshow(image3_rgb);"
   ]
  },
  {
   "cell_type": "code",
   "execution_count": null,
   "metadata": {},
   "outputs": [],
   "source": [
    "from airo_typing import HomogeneousMatrixType\n",
    "\n",
    "def translational_error(pose: HomogeneousMatrixType, ground_truth: HomogeneousMatrixType):\n",
    "    return np.linalg.norm(pose[:3, 3] - ground_truth[:3, 3])\n",
    "\n",
    "translational_error(X_CB, charuco_pose)"
   ]
  },
  {
   "cell_type": "code",
   "execution_count": null,
   "metadata": {},
   "outputs": [],
   "source": [
    "R1 = X_CB[:3, :3]\n",
    "R2 = charuco_pose[:3, :3]\n",
    "\n",
    "import scipy\n",
    "\n",
    "def rotational_error(R1, R2):\n",
    "    # phi_6 from: Metrics for 3D Rotations: Comparison and Analysis\n",
    "    return np.linalg.norm(scipy.linalg.logm(R1 @ R2.T))\n",
    "\n",
    "r = rotational_error(R1, R2)\n",
    "r, np.rad2deg(r)"
   ]
  },
  {
   "cell_type": "code",
   "execution_count": null,
   "metadata": {},
   "outputs": [],
   "source": []
  }
 ],
 "metadata": {
  "kernelspec": {
   "display_name": "airo-blender",
   "language": "python",
   "name": "python3"
  },
  "language_info": {
   "codemirror_mode": {
    "name": "ipython",
    "version": 3
   },
   "file_extension": ".py",
   "mimetype": "text/x-python",
   "name": "python",
   "nbconvert_exporter": "python",
   "pygments_lexer": "ipython3",
   "version": "3.10.10"
  },
  "orig_nbformat": 4
 },
 "nbformat": 4,
 "nbformat_minor": 2
}
